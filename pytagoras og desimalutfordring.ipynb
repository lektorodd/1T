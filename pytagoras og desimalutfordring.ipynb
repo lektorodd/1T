{
 "cells": [
  {
   "cell_type": "markdown",
   "id": "204c4844-fcaf-4cd8-a4eb-7e945eb91089",
   "metadata": {},
   "source": [
    "# Pytagoras & Python "
   ]
  },
  {
   "cell_type": "markdown",
   "id": "d8843d9b-6177-41bb-8c67-5d296f056290",
   "metadata": {},
   "source": [
    "**Merk:** På grunn av måten python gjer om desimaltal til flyttal så vil ikkje den mest logiske sjekken i `if`-setningen virka. \n",
    "\n",
    "Sjå døme:\n"
   ]
  },
  {
   "cell_type": "code",
   "execution_count": 1,
   "id": "25d33cd7-67a9-4529-8a9a-aed809cfae0e",
   "metadata": {},
   "outputs": [
    {
     "name": "stdout",
     "output_type": "stream",
     "text": [
      "Trekanten er ikkje rettvinkla\n"
     ]
    }
   ],
   "source": [
    "a = 3.9\n",
    "b = 8\n",
    "c = 8.9\n",
    "\n",
    "if a**2 + b**2 == c**2:\n",
    "    print(\"Trekanten er rettvinkla\")\n",
    "else: \n",
    "    print(\"Trekanten er ikkje rettvinkla\")"
   ]
  },
  {
   "cell_type": "code",
   "execution_count": 2,
   "id": "34e98794-f98a-4a02-b97e-d4a60bab801d",
   "metadata": {},
   "outputs": [
    {
     "name": "stdout",
     "output_type": "stream",
     "text": [
      "Trekanten er rettvinkla\n"
     ]
    }
   ],
   "source": [
    "a = 3.9\n",
    "b = 8\n",
    "c = 8.9\n",
    "\n",
    "if abs((a**2 + b**2) - c**2) < 1e-6:\n",
    "    print(\"Trekanten er rettvinkla\")\n",
    "else: \n",
    "    print(\"Trekanten er ikkje rettvinkla\")"
   ]
  },
  {
   "cell_type": "code",
   "execution_count": null,
   "id": "340eb4c3-58c0-4928-970d-9fbcd50390d6",
   "metadata": {},
   "outputs": [],
   "source": []
  }
 ],
 "metadata": {
  "kernelspec": {
   "display_name": "Python 3 (ipykernel)",
   "language": "python",
   "name": "python3"
  },
  "language_info": {
   "codemirror_mode": {
    "name": "ipython",
    "version": 3
   },
   "file_extension": ".py",
   "mimetype": "text/x-python",
   "name": "python",
   "nbconvert_exporter": "python",
   "pygments_lexer": "ipython3",
   "version": "3.8.12"
  }
 },
 "nbformat": 4,
 "nbformat_minor": 5
}
