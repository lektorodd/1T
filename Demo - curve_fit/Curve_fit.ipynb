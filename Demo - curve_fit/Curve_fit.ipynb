{
 "cells": [
  {
   "cell_type": "markdown",
   "id": "e6bafee2-d87b-429b-9ae9-44d5ebf22eca",
   "metadata": {},
   "source": [
    "# Kurvetilpassing\n",
    "\n",
    "Tilpassing av kurver med `curve_fit` frå `SciPy`\n",
    "\n",
    "Importerer nødvendige bibliotek"
   ]
  },
  {
   "cell_type": "code",
   "execution_count": 3,
   "id": "7040cc21-16ad-47f9-94d0-9d6189aeb554",
   "metadata": {},
   "outputs": [],
   "source": [
    "import numpy as np\n",
    "import matplotlib.pyplot as plt\n",
    "from scipy.optimize import curve_fit"
   ]
  },
  {
   "cell_type": "markdown",
   "id": "1d0e9240-b1d2-4885-8468-bd9cf361da50",
   "metadata": {},
   "source": [
    "Legg inn data og plottar dei"
   ]
  },
  {
   "cell_type": "code",
   "execution_count": 5,
   "id": "0092d1e6-78bc-457e-a12e-ea6d473930dd",
   "metadata": {},
   "outputs": [],
   "source": [
    "# legg inn datasettet\n",
    "x_data = [0, 2, 4, 6, 8, 10, 12]\n",
    "y_data = [54, 35, 25, 19, 16, 14, 13]\n",
    "\n",
    "#plottar datasettet som punkt i koordinatsystemet\n",
    "plt.plot(x_data, y_data, \"o\")"
   ]
  },
  {
   "cell_type": "markdown",
   "id": "498df9a7-aa60-4e0e-8d51-b77d5f6f9a7d",
   "metadata": {},
   "source": [
    "## Eksponentialfunksjon\n",
    "\n",
    "Eksponentialfunksjonar er på forma $$f(x)=a\\cdot b^x$$ altså der variabelen er ein _eksponent_."
   ]
  },
  {
   "cell_type": "code",
   "execution_count": 13,
   "id": "59f21cb6-b278-4dd8-aa1c-8b6a9aa00c25",
   "metadata": {},
   "outputs": [
    {
     "name": "stdout",
     "output_type": "stream",
     "text": [
      "a= 50.870009121900395\n",
      "b= 0.8621319140459061\n"
     ]
    },
    {
     "data": {
      "text/plain": [
       "[<matplotlib.lines.Line2D at 0x21b056863d0>]"
      ]
     },
     "execution_count": 14,
     "metadata": {},
     "output_type": "execute_result"
    },
    {
     "data": {
      "image/png": "[encoded data removed]",
      "text/plain": [
       "<Figure size 432x288 with 1 Axes>"
      ]
     },
     "metadata": {
      "needs_background": "light"
     },
     "output_type": "display_data"
    }
   ],
   "source": [
    "def f(x, a, b):\n",
    "    return a*b**x\n",
    "\n",
    "K, E = curve_fit(f, x_data, y_data)\n",
    "a, b = K\n",
    "print(\"a=\", a)\n",
    "print(\"b=\", b)\n",
    "\n",
    "x_verdi = np.linspace(0,12,100)\n",
    "y_verdi = f(x_verdi, a, b)\n",
    "plt.plot(x_data, y_data, \"o\")\n",
    "plt.plot(x_verdi, y_verdi)"
   ]
  },
  {
   "cell_type": "markdown",
   "id": "0f719992-cea0-4d40-802b-64a70ca458ec",
   "metadata": {},
   "source": [
    "## Potensfunksjon\n",
    "\n",
    "Potensfunksjonar er på forma $$f(x)=a\\cdot x^b$$ Her er variabelen _grunntalet_ i ein _potens_."
   ]
  },
  {
   "cell_type": "code",
   "execution_count": 20,
   "id": "0c9fc476-fade-4c47-b4d8-330b513908fc",
   "metadata": {},
   "outputs": [
    {
     "name": "stdout",
     "output_type": "stream",
     "text": [
      "a = 5.603571721050158\n",
      "b = 2.3923135376570817\n"
     ]
    },
    {
     "data": {
      "text/plain": [
       "[<matplotlib.lines.Line2D at 0x21b056f1f40>]"
      ]
     },
     "execution_count": 20,
     "metadata": {},
     "output_type": "execute_result"
    },
    {
     "data": {
      "image/png": "[encoded data removed]",
      "text/plain": [
       "<Figure size 432x288 with 1 Axes>"
      ]
     },
     "metadata": {
      "needs_background": "light"
     },
     "output_type": "display_data"
    }
   ],
   "source": [
    "x_data = [4, 8, 12, 16, 20, 23]\n",
    "y_data = [386, 1016, 2275, 3816, 7510, 10100]\n",
    "\n",
    "#plotter datasettet som kryss i koordinatsystemet\n",
    "plt.plot(x_data, y_data, \"x\")\n",
    "\n",
    "def f(x, a, b):\n",
    "    return a*x**b\n",
    "\n",
    "K, E = curve_fit(f, x_data, y_data)\n",
    "a, b = K\n",
    "print(\"a =\", a)\n",
    "print(\"b =\", b)\n",
    "\n",
    "x_verdi = np.linspace(x_data[0],x_data[-1],100)\n",
    "y_verdi = f(x_verdi, a, b)\n",
    "plt.plot(x_data, y_data, \"o\")\n",
    "plt.plot(x_verdi, y_verdi)"
   ]
  },
  {
   "cell_type": "code",
   "execution_count": 18,
   "id": "b3e52d4a-130d-4b70-8078-4b6b14ec0fb5",
   "metadata": {},
   "outputs": [
    {
     "data": {
      "text/plain": [
       "23"
      ]
     },
     "execution_count": 18,
     "metadata": {},
     "output_type": "execute_result"
    }
   ],
   "source": [
    "x_data[-1]"
   ]
  },
  {
   "cell_type": "code",
   "execution_count": null,
   "id": "e88fee9d-256d-4fb7-94f4-7ee1bf300d95",
   "metadata": {},
   "outputs": [],
   "source": []
  }
 ],
 "metadata": {
  "kernelspec": {
   "display_name": "Python 3 (ipykernel)",
   "language": "python",
   "name": "python3"
  },
  "language_info": {
   "codemirror_mode": {
    "name": "ipython",
    "version": 3
   },
   "file_extension": ".py",
   "mimetype": "text/x-python",
   "name": "python",
   "nbconvert_exporter": "python",
   "pygments_lexer": "ipython3",
   "version": "3.8.12"
  }
 },
 "nbformat": 4,
 "nbformat_minor": 5
}
