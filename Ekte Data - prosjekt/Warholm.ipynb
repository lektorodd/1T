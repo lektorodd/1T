{
 "cells": [
  {
   "cell_type": "markdown",
   "id": "ba371543-63cd-4d53-96dd-1ed028905286",
   "metadata": {},
   "source": [
    "# Verdensrekord på 400 m hekk\n",
    "I denne oppgaven skal du bruke Karstein Warholm sitt ol-gull til å jobbe med følgende kompetansemål fra lærplanene i 1T:\n",
    "\n",
    "Mål for opplæringen er at eleven skal kunne\n",
    "* formulere og løse problemer ved hjelp av algoritmisk tenkning, ulike problemløsingsstrategier, digitale verktøy og programmering.\n",
    "\n",
    "* modellere situasjoner knyttet til ulike temaer, drøfte, presentere og forklare resultatene og argumentere for om modellene er gyldige\n",
    "* bruke gjennomsnittlig og momentan vekstfart i konkrete eksempler og gjøre rede for den deriverte\n",
    "\n",
    "## Gjennomsnitts fart\n",
    "Under sommer-ol i Tokyo satt Karstein Warholm verdensrekord på 400 m hekk med tiden 45,95s\n",
    "\n",
    "<div class=\"alert alert-block alert-info\">\n",
    "<b>Oppgave: </b>Hvor fort løper Karstein i gjennomsnitt?</div>\n",
    "\n"
   ]
  },
  {
   "cell_type": "code",
   "execution_count": null,
   "id": "269a6497-35aa-42bd-a088-55377870aef9",
   "metadata": {},
   "outputs": [],
   "source": [
    "#Regn her:"
   ]
  },
  {
   "cell_type": "markdown",
   "id": "43bbcbd4-2804-4c0e-9ff9-4c62fc1b3fc1",
   "metadata": {},
   "source": [
    "Svar her:"
   ]
  },
  {
   "cell_type": "markdown",
   "id": "28417fec-7168-4760-9c82-07ca38b912f4",
   "metadata": {},
   "source": [
    "## Løp Karstein like fort gjennom hele løpet?\n",
    "Analyser filmen for å finne ut. \n",
    "\n",
    "\n",
    "* Søk på nett for å finne ut plasseringen til de ti hekkene i 400 m hekk og legg inn disse i listen \"strekning\" lenger ned i dokumentet. NB husk i tillegg å starte med 0 og slutte med 400\n",
    "\n",
    "* For å finne tidene underveis i løpet må du starte og stopp filmen under. Prøv å stanse filmen hver gang Karstein er midt over en hekk og noter tiden på løpsklokken. Du må nok spole, hoppe litt fram og tilbake og prøve et par ganger for å få det til. Fyll inn tidene i listen \"tid\". Husk å starte med 0 og slutte med 45.95\n",
    "\n",
    "**PS: Karstein løper i bane 6**\n",
    "\n",
    "<div class=\"alert alert-block alert-info\">\n",
    "<b>Oppgave: </b>Fyll inn begge listene under. Når du har to lister med 12 verdier i hver, kjør begge kodeblokkene under filmen for å få et plott</div>"
   ]
  },
  {
   "cell_type": "code",
   "execution_count": 1,
   "id": "f8d4de70-7577-45a6-a97b-14510c64c8bd",
   "metadata": {},
   "outputs": [
    {
     "data": {
      "text/html": [
       "<iframe width=\"560\" height=\"315\" src=\"https://www.youtube.com/embed/A4tircukbGc?start=224\" title=\"YouTube video player\" frameborder=\"0\" allow=\"accelerometer; autoplay; clipboard-write; encrypted-media; gyroscope; picture-in-picture\" allowfullscreen></iframe>\n"
      ],
      "text/plain": [
       "<IPython.core.display.HTML object>"
      ]
     },
     "metadata": {},
     "output_type": "display_data"
    }
   ],
   "source": [
    "%%HTML\n",
    "<iframe width=\"560\" height=\"315\" src=\"https://www.youtube.com/embed/A4tircukbGc?start=224\" title=\"YouTube video player\" frameborder=\"0\" allow=\"accelerometer; autoplay; clipboard-write; encrypted-media; gyroscope; picture-in-picture\" allowfullscreen></iframe>"
   ]
  },
  {
   "cell_type": "code",
   "execution_count": null,
   "id": "3495f804-c649-47db-a94b-e5d24e2adeb2",
   "metadata": {},
   "outputs": [],
   "source": [
    "import matplotlib.pyplot as plt #trengs for å plotte \n",
    "import numpy as np #Du trenger ikke numpy før langt nede i oppgaven.\n",
    "\n",
    "tid=[] # sett inn tid for start, slutt og 10 hekker\n",
    "strekning=[] # sett inn posisjonen til start, sliutt og 10 hekker\n"
   ]
  },
  {
   "cell_type": "code",
   "execution_count": null,
   "id": "4c09074e-9433-4613-bf7f-2a4246e02e85",
   "metadata": {},
   "outputs": [],
   "source": [
    "plt.plot(tid,strekning,'o-') #plotter datapunktene som rundinger og trekker en strek mellom dem\n",
    "plt.grid() #slår på rutenett\n",
    "plt.show()"
   ]
  },
  {
   "cell_type": "markdown",
   "id": "5b93d234-cf70-4ad6-9bfa-41776bcbc679",
   "metadata": {
    "tags": []
   },
   "source": [
    "<div class=\"alert alert-block alert-info\">\n",
    "<b>Oppgave<br> a) </b>Løp Karstein like fort under hele løpet? Hvordan ser du det?<br>\n",
    "<b>b) </b>Når løp han fortest? Hvordan ser du det?<br>\n",
    "    <b>c)</b> Hvor fort løper Karstein i gjennomsnitt mellom 1. og 2. hekk?\n",
    "    <br><b>d)</b> Legg til kodelinjer slik at plottet får passende tittel og navn på aksene\n",
    "</div>"
   ]
  },
  {
   "cell_type": "code",
   "execution_count": null,
   "id": "22cb0add-e20b-4b6a-8e57-b82667a30611",
   "metadata": {},
   "outputs": [],
   "source": [
    "#regn c) her"
   ]
  },
  {
   "cell_type": "markdown",
   "id": "dd130544-fb47-4b40-a9b1-adb6cc55371f",
   "metadata": {},
   "source": [
    "Svar her:"
   ]
  },
  {
   "cell_type": "markdown",
   "id": "2c3aa0db-a8ed-452e-a19f-2017acf0bef5",
   "metadata": {},
   "source": [
    "## Hva hadde verdensrekorden blitt med konstant fart fra 2. hekk?\n",
    "Karstein Warhol er kjent for å løpe raskt i starten av løpet. Hva hadde tiden blitt om han kunne løpe med samme fart som mellom 1. og 2. hekk helt i mål?\n",
    "\n",
    "Kommandoen ***plt.axline((x1,y1),(x2,y2),color=\"r\")*** tegner en rød linje gjennom punktene (x1,y1) og (x2,y2) trekker den ut til kanten av koordinatsystemet.\n",
    "\n",
    "<div class=\"alert alert-block alert-info\">\n",
    "<b>Oppgave: </b>kopier koden fra forrige snutt og lim det inn under. Legg til en kodelinje som tegner en linje gjennom to punkt i plottet. Bruk x og y verdiene som tilsvarer tid og strekning fra 1. og 2. hekk. Les av grafen du får: Hvilken slutttid vil en slik fart gitt omtrent? </div>"
   ]
  },
  {
   "cell_type": "code",
   "execution_count": null,
   "id": "1050e9d3-c42d-4073-aec4-47ccd486ebba",
   "metadata": {},
   "outputs": [],
   "source": []
  },
  {
   "cell_type": "markdown",
   "id": "f593bb76-47ba-4c83-921c-6e5cc87d3f91",
   "metadata": {},
   "source": [
    "Svar her:"
   ]
  },
  {
   "cell_type": "markdown",
   "id": "802b3a47-9523-4d88-8b25-c78c1f518758",
   "metadata": {},
   "source": [
    "Videre skal vi finne et bedre estimat for samme spørsmål ved hjelp av regning.\n",
    "\n",
    "<div class=\"alert alert-block alert-info\">\n",
    "<b>Oppgave: </b>Bruk x og y verdiene som tilsvarer 1. og 2. hekk, finn stigningstall <b>a</b> og konstantledd <b>b</b> til linjen som går gjennom disse punktene. Løs likningen $a\\cdot x+b=400$ for å svare på spørsmålet.<br><br>\n",
    "<b>Utfordring:</b>Kan du løse samme oppgave  med koding? Skriv en kodesnutt som tar inn to xverdier og to tilhørende yverdier, bruker disse til å regne ut a, b og løsning på likingen. Programmet bør skrive ut svarene med passelig antall siffer og en tilhørende tekst. </div>"
   ]
  },
  {
   "cell_type": "code",
   "execution_count": null,
   "id": "7edf9c82-be96-483d-90d9-590166cb9f92",
   "metadata": {},
   "outputs": [],
   "source": []
  },
  {
   "cell_type": "markdown",
   "id": "41ecd283-53d3-4400-8673-9166c39c8ced",
   "metadata": {},
   "source": [
    "## Farten gjennom løpet\n",
    "Vi ønsker å lage plot som viser hvordan gjennomsnittsfaren varier gjennom løpet.\n",
    "<div class=\"alert alert-block alert-info\">\n",
    "<b>Oppgave: </b>Skriv en forklaring til hva kodesnutten under gjør og legg til kommentarer etter hver av linjene</div>"
   ]
  },
  {
   "cell_type": "code",
   "execution_count": null,
   "id": "0a5fc913-c76d-426b-8e46-c3c8f4d8cc96",
   "metadata": {
    "tags": []
   },
   "outputs": [],
   "source": [
    "fart=[]\n",
    "\n",
    "for i in range(1,len(tid)):\n",
    "    v=(strekning[i]-strekning[i-1])/(tid[i]-tid[i-1])\n",
    "    fart.append(v)\n",
    "    "
   ]
  },
  {
   "cell_type": "markdown",
   "id": "e50653bb-9f74-49f3-8028-2c94cc026ca3",
   "metadata": {},
   "source": []
  },
  {
   "cell_type": "markdown",
   "id": "d5ced459-e5db-419d-9544-023b6acc4759",
   "metadata": {},
   "source": [
    "<div class=\"alert alert-block alert-warning\">\n",
    "<b>Advarsel!</b><br>\n",
    "    Om du prøver å plotte en fartsgraf med <b>plt.plot(tid,fart)</b> får du en feilmelding som sier at listene <i>fart</i> og <i>tid</i> har ulik lengde. <br><br>Hvorfor? <br>Kan du fikse det?\n",
    "</div>\n",
    "\n",
    "<div class=\"alert alert-block alert-info\">\n",
    "<b>Oppgave: </b>Lag et plot som viser hvordan farten varier gjennom løpet, legg til passenede titler og navn på aksene</div>"
   ]
  },
  {
   "cell_type": "code",
   "execution_count": null,
   "id": "ce9f09fc-010c-4bbd-a555-6c2b7a466161",
   "metadata": {},
   "outputs": [],
   "source": []
  },
  {
   "cell_type": "markdown",
   "id": "cdfe110d-2a1b-4def-a94a-43d35113db71",
   "metadata": {},
   "source": [
    "## Ved hvilket tidspunkt skal man plotte en gjennomsnittsfart?\n",
    "\n",
    "Man trenger to avstander og to tidspunkter for å regne ut gjennomsnittsfart. Så hvor skal man plotte farten man fant? For å plotte farten over valgte du nok en av fire løsninger: legge til farten = 0 i starten av fartslisten, ta bort første tidsmåling, ta bort siste tidsmåling fra listen eller regne ut gjennomsnittet av to og to tidspunkt og lage en ny tidsliste. \n",
    "\n",
    "Det fins en femte løsning: tegne et stegplott for å vise at verdiene gjelder for ett og ett intervall.\n",
    "\n",
    "<div class=\"alert alert-block alert-info\">\n",
    "<b>Oppgave: </b>Kjør kodesnutten under og studer plottet, skjønner du hvordan det er tegnet? Legg til linjer med kode slik at plottet får tittel og passende navn på akser</div>"
   ]
  },
  {
   "cell_type": "code",
   "execution_count": null,
   "id": "f6418886-487d-4197-87dd-9f2c9af37816",
   "metadata": {},
   "outputs": [],
   "source": [
    "# lager stegplot\n",
    "\n",
    "x=[strekning[0]] # tyvstarter x- listen siden start og slutt verdien skal være kun en gang \n",
    "y=[]\n",
    "\n",
    "for i in range(len(fart)):\n",
    "    x.append(strekning[i+1]) #dobbler alle x-vedier uten om første og siste\n",
    "    x.append(strekning[i+1])\n",
    "    y.append(fart[i]) #dobbler alle yverdier. \n",
    "    y.append(fart[i])\n",
    "x.pop() #\"popper\" ut den siste x- verdien slik at x- og y- listene blir like lange\n",
    "\n",
    "plt.plot(x,y,\"r\")\n",
    "\n",
    "del x,y #sletter x og y slik at variabelnavnene er ledig for ny bruk\n",
    "    "
   ]
  },
  {
   "cell_type": "markdown",
   "id": "8fc61637-6e4d-40aa-8f14-fab3871bc1cd",
   "metadata": {},
   "source": [
    "<div class=\"alert alert-block alert-info\">\n",
    "<b>Oppgave: </b>Kopier forrige kodesnutt og gjør nødvendige endringer slik at du får et nytt plott med tid langs x-aksen. Husk å fikse nødvendige titler på aksene </div>"
   ]
  },
  {
   "cell_type": "code",
   "execution_count": null,
   "id": "4c69d012-0113-40c4-933f-106c5814ec2c",
   "metadata": {},
   "outputs": [],
   "source": []
  },
  {
   "cell_type": "markdown",
   "id": "9d01377a-950b-422b-9a17-c61083cc2510",
   "metadata": {},
   "source": [
    "## Kurvetilpassing\n",
    "Nå har du laget modeller av ol-løpet som punkter i en graf og trukket rett linjer mellom hver av punktene. En annen mulighet er å gjøre en kurvetilpassing for å finne en funksjon som tegner en graf som passer godt med målingene. Det finnes mange python bibliotek som har programmer som kan kurvetilpasse data vha regresjon. Disse er mer eller mindre kompliserte alt etter hvor \"heftig\" regresjon du er ute etter. Dersom man ønsker å tilpasse et polynom er *polyfit* i biblioteket *numpy* et godt valg.\n",
    "\n",
    "Se filmen under for tips om polynomregresjon i python:"
   ]
  },
  {
   "cell_type": "code",
   "execution_count": 2,
   "id": "e00b9a7e-f406-49b4-9b88-a505afed4576",
   "metadata": {},
   "outputs": [
    {
     "data": {
      "text/html": [
       "<iframe width=501 height=282 style=\"border:0;\" scrolling=\"no\" src=\"https://screencast-o-matic.com/player/c3njFRVDM5c?width=501&height=282&ff=1&title=0\" allowfullscreen=\"true\"></iframe>\n"
      ],
      "text/plain": [
       "<IPython.core.display.HTML object>"
      ]
     },
     "metadata": {},
     "output_type": "display_data"
    }
   ],
   "source": [
    "%%HTML\n",
    "<iframe width=501 height=282 style=\"border:0;\" scrolling=\"no\" src=\"https://screencast-o-matic.com/player/c3njFRVDM5c?width=501&height=282&ff=1&title=0\" allowfullscreen=\"true\"></iframe>"
   ]
  },
  {
   "cell_type": "markdown",
   "id": "59f31d5f-411d-4e8d-9c6a-d17fb8aad610",
   "metadata": {},
   "source": [
    "<div class=\"alert alert-block alert-info\">\n",
    "<b>Oppgave: </b>Bruk filmen som inspirasjon, gjør en kurvetilpassing til det opprinnelige datasettet: tid og strekning. Lag et plot med både måledata og modell. Husk navn på akser og skriv ut hvilken funksjon du har brukt som modell. </div>\n",
    "Husk:\n",
    "\n",
    "* En god modell er enklest mulig, men ikke for enkel. Velg lavest mulig grad som du mener beskriver løpet godt\n",
    "* Hva er gyldighetsområdet til modellen din? Ta hensyn til det når du plotter"
   ]
  },
  {
   "cell_type": "code",
   "execution_count": null,
   "id": "0b3f94eb-0ea2-49c9-8676-29ba60c64d68",
   "metadata": {},
   "outputs": [],
   "source": []
  },
  {
   "cell_type": "markdown",
   "id": "83078340-d3ea-469c-8104-b1f433d3d46f",
   "metadata": {},
   "source": [
    "<div class=\"alert alert-block alert-info\">\n",
    "<b>Oppgave: </b>I følge filmen løper Karstein Warhol over andre hekk eller 80 meter fra start etter 8.9s. Hvordan stemmer det med din modell? </div>\n"
   ]
  },
  {
   "cell_type": "markdown",
   "id": "2b6f9c92-c55f-42bd-861c-2ef46aacb1b8",
   "metadata": {},
   "source": [
    "## Momentan vekstfart\n",
    "Så langt har vi regnet gjennomsnittsfart mellom to hekker, når vi nå har en funksjon som modell kan vi bruke den til å finne den momentane vekstfarten og derfor en modell på den momentane løpsfarten til Karstein. \n",
    "\n",
    "Når vi la h være veldig liten kan vi finne en tilnæringsverdi for den deriverte til en funksjon som:\n",
    "\n",
    "$$f'(x)\\approx \\frac{f(x+h)-f(x)}{h}$$\n",
    "\n",
    "\n",
    "<div class=\"alert alert-block alert-info\">\n",
    "<b>Utfordring! </b>Definer en funksjon som deriverer numerisk (bruker utrykket over med en liten h). Tegn grafen til den deriverte av polynomet du fant i sted for hele gyldighetsområdet av modellen. Du har nå laget en modell av farten til Karstein Warholm i gulløpet! </div>\n"
   ]
  },
  {
   "cell_type": "code",
   "execution_count": null,
   "id": "6e7d9305-00bb-4aa5-b17a-cc35669350d2",
   "metadata": {},
   "outputs": [],
   "source": []
  },
  {
   "cell_type": "markdown",
   "id": "1b823d7f-8e6b-42d0-8707-e2b3580e7d89",
   "metadata": {},
   "source": [
    "<div class=\"alert alert-block alert-info\">\n",
    "<b>Oppgave: </b>Plot både grafen til den deriverte og gjennomsnitssfarten som du fant tidliger i samme koordinatsystem. Kommenter styrker og svakheter til de ulike måtene å modellere farten til Karstein Warholm</div>\n"
   ]
  },
  {
   "cell_type": "code",
   "execution_count": null,
   "id": "ea1e30d1-2d7a-4e55-9cda-2f86bb995fbf",
   "metadata": {},
   "outputs": [],
   "source": []
  }
 ],
 "metadata": {
  "kernelspec": {
   "display_name": "Python 3 (ipykernel)",
   "language": "python",
   "name": "python3"
  },
  "language_info": {
   "codemirror_mode": {
    "name": "ipython",
    "version": 3
   },
   "file_extension": ".py",
   "mimetype": "text/x-python",
   "name": "python",
   "nbconvert_exporter": "python",
   "pygments_lexer": "ipython3",
   "version": "3.9.7"
  }
 },
 "nbformat": 4,
 "nbformat_minor": 5
}
