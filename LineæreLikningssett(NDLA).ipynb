{
 "cells": [
  {
   "cell_type": "markdown",
   "id": "5e99f622-30c4-4bfe-91fd-50f09c90de52",
   "metadata": {
    "tags": []
   },
   "source": [
    "# Løysing av lineære likningssett\n",
    "\n",
    "Frå [NDLA](https://ndla.no/subject:1:8bfd0a97-d456-448d-8b5f-3bc49e445b37/topic:1:c45afb4c-1d0b-4747-94fe-775368720df6/topic:1:81504d9b-9a8c-4b99-82b6-295a89000b9d/resource:208cde83-f2bf-4061-83e9-675b143cd4d7) oppgåve 1.5.50. \n",
    "\n",
    "Opphaver: Forfatter Bjarne Skurdal\n",
    "Bearbeider: Språklig Ragnfrid Myhr, Korrektur Olav Kristensen\n",
    "Publiseringsdato: 25.04.2020\n",
    "\n",
    "\n",
    "Me skal sjå på korleis me kan nytta programmering for å løysa lineære likningssett. \n",
    "\n",
    "Eit døme på eit lineært likningssett er\n",
    "\\begin{align}\n",
    "    3x + 2y &= 380 \\\\\n",
    "    4x + 3y &= 540\n",
    "\\end{align}"
   ]
  },
  {
   "cell_type": "markdown",
   "id": "868e29ce-d97a-44bc-bee6-ee3e066093dc",
   "metadata": {
    "jp-MarkdownHeadingCollapsed": true,
    "tags": []
   },
   "source": [
    "## Oppgåve 1 - spørsmål"
   ]
  },
  {
   "cell_type": "markdown",
   "id": "a2c8ba3c-ff8a-424f-8785-d02bf81169e5",
   "metadata": {
    "tags": []
   },
   "source": [
    "Kva treng vi av informasjon frå likningssettet for å kunne løyse det?\n",
    "\n",
    "---"
   ]
  },
  {
   "cell_type": "markdown",
   "id": "65f53def-0f11-4c4f-89ad-25e5c7ebb980",
   "metadata": {},
   "source": []
  },
  {
   "cell_type": "markdown",
   "id": "35e4b574-396d-4ef9-8ea2-3579bef1a95f",
   "metadata": {},
   "source": [
    "---\n",
    "\n",
    "Programmet vårt må kunne ta imot dei seks tala frå brukaren av programmet og deretter rekne ut løysinga ut ifrå tala, men korleis gjer vi det? Med innsetjingsmetoden følgjer vi eit fastsett mønster når vi løyser likningssettet. Det mønsteret kan vi finne ved å prøve å løyse manuelt eit generelt likningssett der koeffisientane er bokstavane a til og med f."
   ]
  },
  {
   "cell_type": "markdown",
   "id": "1a1ff13a-155b-4e6e-8fa3-c78cb59902a0",
   "metadata": {
    "jp-MarkdownHeadingCollapsed": true,
    "tags": []
   },
   "source": [
    "## Oppgåve 2 - generelt likningssett"
   ]
  },
  {
   "cell_type": "markdown",
   "id": "cfd29f02-705a-4c75-8ce7-1f03cca3e7f7",
   "metadata": {
    "tags": []
   },
   "source": [
    "Prøv å skrive opp det generelle likningssettet ved hjelp av bokstavane $a$ til og med $f$.\n",
    "\n",
    "---"
   ]
  },
  {
   "cell_type": "markdown",
   "id": "90d21dff-17b6-4471-89fb-8c6ef3a88d04",
   "metadata": {},
   "source": []
  },
  {
   "cell_type": "markdown",
   "id": "3605edb0-7ed5-49ec-a1df-40cd0d607745",
   "metadata": {
    "jp-MarkdownHeadingCollapsed": true,
    "tags": []
   },
   "source": [
    "## Oppgåve 3 - trinn 1"
   ]
  },
  {
   "cell_type": "markdown",
   "id": "f8e4f41b-ff0f-44e9-9d68-723c566b1eed",
   "metadata": {
    "tags": []
   },
   "source": [
    "Så gjer vi som vi ville gjort med innsetjingsmetoden: Vi startar med å løyse den eine likninga med omsyn på anten $x$ eller $y$. Til vanleg ville vi sett etter den måten som gir oss enklast rekning, men her speler det ikkje noka rolle.\n",
    "\n",
    "Klarer du å løyse likningssettet når alle tala er bokstavar? Prøv gjerne på det.\n",
    "Løys den første likninga med omsyn på $x$.\n",
    "\n",
    "---"
   ]
  },
  {
   "cell_type": "markdown",
   "id": "e635668c-769c-4c13-81ef-cbc5d3bec507",
   "metadata": {},
   "source": []
  },
  {
   "cell_type": "markdown",
   "id": "7c228165-42f6-4bb5-b9a5-ad7f9c9ff928",
   "metadata": {
    "jp-MarkdownHeadingCollapsed": true,
    "tags": []
   },
   "source": [
    "## Oppgåve 4 - trinn 2"
   ]
  },
  {
   "cell_type": "markdown",
   "id": "f00162ed-73f2-4d0c-ab80-4a7e8b2cef85",
   "metadata": {
    "tags": []
   },
   "source": [
    "Neste skritt i innsetjingsmetoden er å setje uttrykket for $x$ inn i den andre likninga. Prøv om du greier å gjere dette sjølv før du spør om hjelp.\n",
    "\n",
    "---"
   ]
  },
  {
   "cell_type": "markdown",
   "id": "b5476c45-0e51-4d29-8d75-fa9063ce71a8",
   "metadata": {},
   "source": []
  },
  {
   "cell_type": "markdown",
   "id": "bd36581d-cbf3-4772-bab9-b583c9b25a25",
   "metadata": {},
   "source": [
    "---\n",
    "Når du har gjort dette har du kome fram til formelen for løysinga for $y$."
   ]
  },
  {
   "cell_type": "markdown",
   "id": "2443f1b2-b355-4a9b-bb87-181f9e4eec51",
   "metadata": {
    "jp-MarkdownHeadingCollapsed": true,
    "tags": []
   },
   "source": [
    "## Oppgåve 5 - spørsmål"
   ]
  },
  {
   "cell_type": "markdown",
   "id": "3918328d-accd-4489-8bd4-f3c16ba057d6",
   "metadata": {
    "tags": []
   },
   "source": [
    "Til vanleg ville vi no setje inn løysinga for $y$ inn i det uttrykket vi fann for $x$ lenger opp på sida, men treng vi eigentleg ein tilsvarande løysingsformel for $x$ i programmet vårt?\n",
    "\n",
    "---"
   ]
  },
  {
   "cell_type": "markdown",
   "id": "7a0bf7cf-5054-4b75-8d7c-57a40a2057bd",
   "metadata": {},
   "source": []
  },
  {
   "cell_type": "markdown",
   "id": "515126db-e2de-42b1-a4ff-541fe7201b18",
   "metadata": {
    "jp-MarkdownHeadingCollapsed": true,
    "tags": []
   },
   "source": [
    "## Oppgåve 6 - algoritme"
   ]
  },
  {
   "cell_type": "markdown",
   "id": "f5ded4a9-f54c-44bb-b019-e58b8f255cbc",
   "metadata": {
    "tags": []
   },
   "source": [
    "No har me kome fram til formlane \n",
    "$$y = \\frac{af-cd}{ae-bd}, \\qquad x = \\frac{c}{a} - \\frac{b}{a}y $$\n",
    "\n",
    "Skriv algoritmen til eit program som kan løyse likningssettet. Programmet må gjere følgjande:\n",
    "\n",
    "- informere brukaren av programmet om kva programmet gjer\n",
    "- vise korleis likningssettet programmet løyser, ser ut\n",
    "- la brukaren skrive inn dei seks tala (koeffisientane)\n",
    "- rekne ut og presentere løysinga\n",
    "\n",
    "---"
   ]
  },
  {
   "cell_type": "markdown",
   "id": "a96a46bb-2caf-45d0-a8f2-3a14f5e474ba",
   "metadata": {},
   "source": []
  },
  {
   "cell_type": "markdown",
   "id": "7fd891d0-17f5-4736-8d8e-92fc827b335a",
   "metadata": {
    "jp-MarkdownHeadingCollapsed": true,
    "tags": []
   },
   "source": [
    "## Oppgåve 7 - koding "
   ]
  },
  {
   "cell_type": "markdown",
   "id": "75ebd99a-9ac1-444a-9d0e-dcabe2a036b9",
   "metadata": {},
   "source": [
    "Skriv programmet i cella under. Prøv det på likningssettet øverst i dokumentet. "
   ]
  },
  {
   "cell_type": "code",
   "execution_count": null,
   "id": "4dc4be60-2909-4ebe-a502-407f0a5ab0fe",
   "metadata": {},
   "outputs": [],
   "source": [
    "# Skriv inn programkoden her"
   ]
  },
  {
   "cell_type": "markdown",
   "id": "61c39f47-2b10-4636-91ad-c91dc8ba218b",
   "metadata": {
    "jp-MarkdownHeadingCollapsed": true,
    "tags": []
   },
   "source": [
    "## Oppgåve 8 - testing"
   ]
  },
  {
   "cell_type": "markdown",
   "id": "f9454dae-e29d-4483-8fd0-4bf8bf8f687a",
   "metadata": {},
   "source": [
    "Nokre likningssett har ikkje løysing. Korleis oppfører programmet seg om brukaren skriv inn eit slikt likningssett?\n",
    "\n",
    "---"
   ]
  },
  {
   "cell_type": "markdown",
   "id": "a8dfa632-5d03-4bec-96be-9d4d5cf79465",
   "metadata": {},
   "source": []
  },
  {
   "cell_type": "markdown",
   "id": "4df786ec-9120-447d-83a0-bfb3088deacd",
   "metadata": {
    "jp-MarkdownHeadingCollapsed": true,
    "tags": []
   },
   "source": [
    "## Oppgåve 9 - algoritme "
   ]
  },
  {
   "cell_type": "markdown",
   "id": "4b8af97f-9733-434e-aa67-ecd78c2c68da",
   "metadata": {},
   "source": [
    "Endre på algoritmen slik at det tek omsyn til likningssett som ikkje har løysing. Endre deretter programmet i tråd med den nye algoritmen."
   ]
  },
  {
   "cell_type": "markdown",
   "id": "af3402bc-1497-4810-9198-830d802864a7",
   "metadata": {},
   "source": []
  },
  {
   "cell_type": "markdown",
   "id": "c79f6721-b8e3-4319-aa8b-9d328da9cea1",
   "metadata": {},
   "source": [
    "---"
   ]
  },
  {
   "cell_type": "code",
   "execution_count": 2,
   "id": "72fefb11-8392-433f-b2fc-87802feb37e1",
   "metadata": {},
   "outputs": [],
   "source": [
    "# Skriv inn det oppdaterte programmet her"
   ]
  },
  {
   "cell_type": "markdown",
   "id": "546a39b8-6690-49ea-9f1c-36ac509db7e0",
   "metadata": {
    "jp-MarkdownHeadingCollapsed": true,
    "tags": []
   },
   "source": [
    "## Oppgåve 10 - algoritme og koding"
   ]
  },
  {
   "cell_type": "markdown",
   "id": "86c67893-6a2b-4e77-b865-e9e869a2ccdd",
   "metadata": {},
   "source": [
    "Er det andre spesielle likningssett vi må ta omsyn til? I så fall, tilpass først algoritmen, deretter programmet, slik at det passar for alle lineære likningssett."
   ]
  },
  {
   "cell_type": "markdown",
   "id": "cfdcfb20-5e2c-4d28-947b-517daeaf80b9",
   "metadata": {},
   "source": []
  },
  {
   "cell_type": "markdown",
   "id": "29ef9b31-c7a7-467b-a330-02d5568f6666",
   "metadata": {},
   "source": [
    "---"
   ]
  },
  {
   "cell_type": "code",
   "execution_count": 3,
   "id": "74fc2d05-161a-405f-ae6f-093657e07d7a",
   "metadata": {},
   "outputs": [],
   "source": [
    "# Skriv inn det oppdaterte programmet her"
   ]
  }
 ],
 "metadata": {
  "kernelspec": {
   "display_name": "Python 3 (ipykernel)",
   "language": "python",
   "name": "python3"
  },
  "language_info": {
   "codemirror_mode": {
    "name": "ipython",
    "version": 3
   },
   "file_extension": ".py",
   "mimetype": "text/x-python",
   "name": "python",
   "nbconvert_exporter": "python",
   "pygments_lexer": "ipython3",
   "version": "3.8.12"
  }
 },
 "nbformat": 4,
 "nbformat_minor": 5
}
