{
 "cells": [
  {
   "cell_type": "markdown",
   "id": "aed76ad3-542a-4d67-b619-5a8e30d9113b",
   "metadata": {
    "tags": []
   },
   "source": [
    "# Andregradslikningar\n",
    "\n",
    "Me lagar eit program for å løysa andregradslikningar (med *abc*-formelen) samt plotting for å sjå den grafiske tolkinga av løysinga. \n",
    "\n",
    "Andregradsløysingane programmet løyser er på forma \n",
    "$$ax^2 + bx + c = 0$$\n",
    "der $a, b, c, \\in \\mathbb{R}$ og $a\\neq 0$\n",
    "\n",
    "*abc*-formelen er gitt ved\n",
    "$$x = \\frac{-b\\pm \\sqrt{b^2-4ac}}{2a}$$"
   ]
  },
  {
   "cell_type": "code",
   "execution_count": null,
   "id": "fc60599a-2464-461e-8f4a-bb3fdafcb180",
   "metadata": {},
   "outputs": [],
   "source": [
    "# importerer aktuelle bibliotek\n",
    "import..."
   ]
  },
  {
   "cell_type": "markdown",
   "id": "07b2fdfe-4464-432b-a0bc-2a4d9f95d0e9",
   "metadata": {},
   "source": [
    "## abc-formelen"
   ]
  },
  {
   "cell_type": "code",
   "execution_count": null,
   "id": "3af362e7-b76b-41b6-ad8b-5d10598f6867",
   "metadata": {},
   "outputs": [],
   "source": [
    "# Spør etter koeff.\n",
    "\n",
    "# Rekne ut diskriminant\n",
    "\n",
    "# Skrive ut svaret etter kor mange løysingar det er"
   ]
  },
  {
   "cell_type": "markdown",
   "id": "5bd357b6-9492-477e-8e46-638b1e879c6d",
   "metadata": {},
   "source": [
    "## Plotting"
   ]
  },
  {
   "cell_type": "code",
   "execution_count": null,
   "id": "45f1f5d4-255c-47d5-983b-08a6717dbb10",
   "metadata": {},
   "outputs": [],
   "source": [
    "# lage x og y (definere funksjonen)\n",
    "\n",
    "#plotte"
   ]
  }
 ],
 "metadata": {
  "kernelspec": {
   "display_name": "Python 3 (ipykernel)",
   "language": "python",
   "name": "python3"
  },
  "language_info": {
   "codemirror_mode": {
    "name": "ipython",
    "version": 3
   },
   "file_extension": ".py",
   "mimetype": "text/x-python",
   "name": "python",
   "nbconvert_exporter": "python",
   "pygments_lexer": "ipython3",
   "version": "3.8.11"
  }
 },
 "nbformat": 4,
 "nbformat_minor": 5
}
