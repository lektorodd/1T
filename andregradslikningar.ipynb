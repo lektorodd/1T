{
 "cells": [
  {
   "cell_type": "markdown",
   "id": "aed76ad3-542a-4d67-b619-5a8e30d9113b",
   "metadata": {
    "tags": []
   },
   "source": [
    "# Andregradslikningar\n",
    "\n",
    "Me lagar eit program for å løysa andregradslikningar (med *abc*-formelen) samt plotting for å sjå den grafiske tolkinga av løysinga. \n",
    "\n",
    "Andregradsløysingane programmet løyser er på forma \n",
    "$$ax^2 + bx + c = 0$$\n",
    "der $a, b, c, \\in \\mathbb{R}$ og $a\\neq 0$\n",
    "\n",
    "*abc*-formelen er gitt ved\n",
    "$$x = \\frac{-b\\pm \\sqrt{b^2-4ac}}{2a}$$"
   ]
  },
  {
   "cell_type": "code",
   "execution_count": 1,
   "id": "fc60599a-2464-461e-8f4a-bb3fdafcb180",
   "metadata": {},
   "outputs": [],
   "source": [
    "# importerer aktuelle bibliotek\n",
    "import numpy as np\n",
    "import matplotlib.pyplot as plt"
   ]
  },
  {
   "cell_type": "markdown",
   "id": "07b2fdfe-4464-432b-a0bc-2a4d9f95d0e9",
   "metadata": {},
   "source": [
    "## abc-formelen"
   ]
  },
  {
   "cell_type": "code",
   "execution_count": 19,
   "id": "3af362e7-b76b-41b6-ad8b-5d10598f6867",
   "metadata": {},
   "outputs": [
    {
     "name": "stdin",
     "output_type": "stream",
     "text": [
      "a = ? -4\n",
      "b = ? 4\n",
      "c = ? -1\n"
     ]
    },
    {
     "name": "stdout",
     "output_type": "stream",
     "text": [
      "Ei løysing: 0.5\n"
     ]
    }
   ],
   "source": [
    "# Spør etter koeff.\n",
    "a = float(input(\"a = ?\"))\n",
    "b = float(input(\"b = ?\"))\n",
    "c = float(input(\"c = ?\"))\n",
    "\n",
    "# Rekne ut diskriminant\n",
    "d = b**2 -4*a*c\n",
    "\n",
    "if d > 0:\n",
    "    # to løysingar\n",
    "    x1 = (-b - np.sqrt(d)) / (2*a)\n",
    "    x2 = (-b + np.sqrt(d)) / (2*a)\n",
    "    print(\"To løysingar\")\n",
    "    print(\"x1 = \", x1)\n",
    "    print(\"x2 = \", x2)\n",
    "elif d == 0:\n",
    "    # ei løysing\n",
    "    x1 = -b / (2*a) \n",
    "    print(\"Ei løysing:\", x1)\n",
    "else:\n",
    "    # ingen løysing\n",
    "    print(\"Likninga har ikkje løysing.\")"
   ]
  },
  {
   "cell_type": "markdown",
   "id": "5bd357b6-9492-477e-8e46-638b1e879c6d",
   "metadata": {},
   "source": [
    "## Plotting"
   ]
  },
  {
   "cell_type": "code",
   "execution_count": 21,
   "id": "45f1f5d4-255c-47d5-983b-08a6717dbb10",
   "metadata": {},
   "outputs": [
    {
     "data": {
      "image/png": "[encoded data removed]",
      "text/plain": [
       "<Figure size 432x288 with 1 Axes>"
      ]
     },
     "metadata": {
      "needs_background": "light"
     },
     "output_type": "display_data"
    }
   ],
   "source": [
    "def f(x):\n",
    "    return a*x**2 + b*x + c\n",
    "\n",
    "# lage x og y (definere funksjonen)\n",
    "x = np.linspace(-4,4, 100)\n",
    "y = f(x)\n",
    "\n",
    "#plotte\n",
    "plt.grid()\n",
    "plt.axhline(0, color = 'black')\n",
    "plt.axvline(0, color = 'black')\n",
    "plt.title(\"Plot av funksjonen\")\n",
    "plt.xlabel(\"x-akse\")\n",
    "plt.ylabel(\"y-akse\")\n",
    "plt.legend(\"f\")\n",
    "plt.plot(x,y)\n",
    "plt.show()"
   ]
  },
  {
   "cell_type": "code",
   "execution_count": null,
   "id": "e8ab96b7-e595-4300-9561-2d9401cec744",
   "metadata": {},
   "outputs": [],
   "source": []
  }
 ],
 "metadata": {
  "kernelspec": {
   "display_name": "Python 3 (ipykernel)",
   "language": "python",
   "name": "python3"
  },
  "language_info": {
   "codemirror_mode": {
    "name": "ipython",
    "version": 3
   },
   "file_extension": ".py",
   "mimetype": "text/x-python",
   "name": "python",
   "nbconvert_exporter": "python",
   "pygments_lexer": "ipython3",
   "version": "3.8.11"
  }
 },
 "nbformat": 4,
 "nbformat_minor": 5
}
